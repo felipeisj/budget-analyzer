{
 "cells": [
  {
   "cell_type": "code",
   "execution_count": null,
   "id": "4355a3a8",
   "metadata": {},
   "outputs": [
    {
     "ename": "",
     "evalue": "",
     "output_type": "error",
     "traceback": [
      "\u001b[1;31mRunning cells with 'Python 3.13.7' requires the ipykernel package.\n",
      "\u001b[1;31mInstall 'ipykernel' into the Python environment. \n",
      "\u001b[1;31mCommand: '/opt/homebrew/bin/python3 -m pip install ipykernel -U --user --force-reinstall'"
     ]
    }
   ],
   "source": [
    "# Celda 1: Importaciones\n",
    "import sys\n",
    "sys.path.append('../app')  # Para importar tus módulos\n",
    "\n",
    "from app.services.claude_analyzer import ClaudeAnalyzer\n",
    "from app.services.pdf_extractor import MOPPDFExtractor\n",
    "from app.config.settings import get_settings\n",
    "\n",
    "print(\"Módulos importados correctamente\")"
   ]
  },
  {
   "cell_type": "code",
   "execution_count": null,
   "id": "216605c1",
   "metadata": {},
   "outputs": [],
   "source": [
    "# Celda 2: Configuración\n",
    "settings = get_settings()\n",
    "print(f\"Entorno: {settings.ENVIRONMENT}\")\n",
    "print(f\"API Key configurada: {'Sí' if settings.ANTHROPIC_API_KEY else 'No'}\")"
   ]
  },
  {
   "cell_type": "code",
   "execution_count": null,
   "id": "63961a18",
   "metadata": {},
   "outputs": [],
   "source": [
    "# Celda 3: Probar extracción de PDF\n",
    "extractor = MOPPDFExtractor()\n",
    "# Aquí puedes probar con un PDF real"
   ]
  }
 ],
 "metadata": {
  "kernelspec": {
   "display_name": "Python 3",
   "language": "python",
   "name": "python3"
  },
  "language_info": {
   "name": "python",
   "version": "3.13.7"
  }
 },
 "nbformat": 4,
 "nbformat_minor": 5
}
