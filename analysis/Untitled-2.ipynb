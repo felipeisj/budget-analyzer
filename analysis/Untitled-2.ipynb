{
 "cells": [
  {
   "cell_type": "code",
   "execution_count": 2,
   "id": "0682aa28",
   "metadata": {},
   "outputs": [
    {
     "name": "stdout",
     "output_type": "stream",
     "text": [
      "Python path: /Users/felipeslzar/Desktop/proyectos/saer/budget-analyzer/venv/bin/python\n",
      "Todas las dependencias básicas funcionan\n"
     ]
    }
   ],
   "source": [
    "# Verificar entorno y dependencias\n",
    "import sys\n",
    "print(\"Python path:\", sys.executable)\n",
    "\n",
    "# Agregar la carpeta app al path para importar tus módulos\n",
    "sys.path.append('../app')  # Si notebooks está en una subcarpeta\n",
    "# O si el notebook está en la raíz:\n",
    "sys.path.append('./app')\n",
    "\n",
    "# Verificar importaciones básicas\n",
    "try:\n",
    "    import anthropic\n",
    "    import pandas as pd\n",
    "    import PyPDF2\n",
    "    print(\"Todas las dependencias básicas funcionan\")\n",
    "except ImportError as e:\n",
    "    print(f\"Error en dependencias: {e}\")"
   ]
  },
  {
   "cell_type": "code",
   "execution_count": 11,
   "id": "621ad7d6",
   "metadata": {},
   "outputs": [
    {
     "name": "stdout",
     "output_type": "stream",
     "text": [
      "Servicios importados correctamente\n",
      "Error con servicios: ClaudeAnalyzer.__init__() missing 1 required positional argument: 'api_key'\n"
     ]
    },
    {
     "name": "stderr",
     "output_type": "stream",
     "text": [
      "Traceback (most recent call last):\n",
      "  File \"/var/folders/ft/ktfyyymx3mn7kwntls_r4xmh0000gn/T/ipykernel_53024/471521724.py\", line 8, in <module>\n",
      "    analyzer = ClaudeAnalyzer()\n",
      "TypeError: ClaudeAnalyzer.__init__() missing 1 required positional argument: 'api_key'\n"
     ]
    }
   ],
   "source": [
    "try:\n",
    "    from app.services.claude_analyzer import ClaudeAnalyzer\n",
    "    from app.services.pdf_extractor import PDFExtractor\n",
    "    \n",
    "    print(\"Servicios importados correctamente\")\n",
    "    \n",
    "    # Inicializar servicios\n",
    "    analyzer = ClaudeAnalyzer()\n",
    "    extractor = PDFExtractor()\n",
    "    \n",
    "    print(\"Servicios inicializados correctamente\")\n",
    "    print(f\"Modelo Claude configurado: {analyzer.model}\")\n",
    "    \n",
    "except Exception as e:\n",
    "    print(f\"Error con servicios: {e}\")\n",
    "    import traceback\n",
    "    traceback.print_exc()"
   ]
  },
  {
   "cell_type": "code",
   "execution_count": 12,
   "id": "cdb23fb9",
   "metadata": {},
   "outputs": [
    {
     "name": "stdout",
     "output_type": "stream",
     "text": [
      "Error verificando analyzer: name 'analyzer' is not defined\n"
     ]
    }
   ],
   "source": [
    "# Verificar que el analyzer tiene configuración\n",
    "try:\n",
    "    print(f\"API Key presente: {bool(analyzer.client)}\")\n",
    "    print(f\"Configuración del analyzer:\")\n",
    "    print(f\"  Modelo: {analyzer.model}\")\n",
    "    print(f\"  Max tokens: {analyzer.max_tokens}\")\n",
    "    print(f\"  Temperatura: {analyzer.temperature}\")\n",
    "except Exception as e:\n",
    "    print(f\"Error verificando analyzer: {e}\")"
   ]
  }
 ],
 "metadata": {
  "kernelspec": {
   "display_name": "venv",
   "language": "python",
   "name": "python3"
  },
  "language_info": {
   "codemirror_mode": {
    "name": "ipython",
    "version": 3
   },
   "file_extension": ".py",
   "mimetype": "text/x-python",
   "name": "python",
   "nbconvert_exporter": "python",
   "pygments_lexer": "ipython3",
   "version": "3.13.7"
  }
 },
 "nbformat": 4,
 "nbformat_minor": 5
}
